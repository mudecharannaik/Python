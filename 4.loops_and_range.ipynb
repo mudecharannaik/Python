{
 "cells": [
  {
   "cell_type": "markdown",
   "metadata": {},
   "source": [
    "## For loops"
   ]
  },
  {
   "cell_type": "code",
   "execution_count": 2,
   "metadata": {},
   "outputs": [
    {
     "name": "stdout",
     "output_type": "stream",
     "text": [
      "a\n",
      "b\n",
      "c\n",
      "d\n"
     ]
    }
   ],
   "source": [
    "s =\"abcd\"\n",
    "for c in s:\n",
    "    print(c)"
   ]
  },
  {
   "cell_type": "code",
   "execution_count": 3,
   "metadata": {},
   "outputs": [
    {
     "name": "stdout",
     "output_type": "stream",
     "text": [
      "0\n",
      "1\n",
      "2\n",
      "3\n"
     ]
    }
   ],
   "source": [
    "# first n natural numbers\n",
    "n = int(input())\n",
    "for i in range(0,n,1):#(start,stop,stride) #incorrect form\n",
    "    print(i)\n",
    "    # i does not go upto n but it stops before n i.e(n-1)\n",
    "    "
   ]
  },
  {
   "cell_type": "code",
   "execution_count": 5,
   "metadata": {},
   "outputs": [
    {
     "name": "stdout",
     "output_type": "stream",
     "text": [
      "1\n",
      "2\n",
      "3\n",
      "4\n"
     ]
    }
   ],
   "source": [
    "# first n natural numbers\n",
    "n = int(input())\n",
    "# here we are giving all theree values to range\n",
    "for i in range(1,n+1,1):#(start,stop,stride) ##corrected\n",
    "    print(i)\n",
    "    "
   ]
  },
  {
   "cell_type": "code",
   "execution_count": 6,
   "metadata": {},
   "outputs": [],
   "source": [
    "# by default start is 0\n",
    "# end is new line end = \"\\n\"\n",
    "# by default stride(step) is 1"
   ]
  },
  {
   "cell_type": "code",
   "execution_count": 7,
   "metadata": {},
   "outputs": [
    {
     "name": "stdout",
     "output_type": "stream",
     "text": [
      "0\n",
      "1\n",
      "2\n",
      "3\n",
      "4\n"
     ]
    }
   ],
   "source": [
    "#onlu one value to range it uses it as stop by default by 0 for the start and 1 for step\n",
    "n = int(input())\n",
    "for i in range(n+1):#(start,stop,step) \n",
    "    print(i)"
   ]
  },
  {
   "cell_type": "code",
   "execution_count": 8,
   "metadata": {},
   "outputs": [
    {
     "name": "stdout",
     "output_type": "stream",
     "text": [
      "1\n",
      "2\n",
      "3\n",
      "4\n"
     ]
    }
   ],
   "source": [
    "# only rwo values to the range and it uses the first argument as start and\n",
    "#second as stop and step is by default 1\n",
    "n = int(input())\n",
    "for i in range(1,n+1):#(start,stop,step) \n",
    "    print(i)\n"
   ]
  },
  {
   "cell_type": "code",
   "execution_count": 9,
   "metadata": {},
   "outputs": [
    {
     "name": "stdout",
     "output_type": "stream",
     "text": [
      "5\n",
      "4\n",
      "3\n",
      "2\n"
     ]
    }
   ],
   "source": [
    "#number from n to 1\n",
    "n = int(input())\n",
    "for i in range(n,1,-1):\n",
    "    print(i)"
   ]
  },
  {
   "cell_type": "code",
   "execution_count": 10,
   "metadata": {},
   "outputs": [
    {
     "name": "stdout",
     "output_type": "stream",
     "text": [
      "5\n",
      "4\n",
      "3\n",
      "2\n",
      "1\n"
     ]
    }
   ],
   "source": [
    "#number from n to 1\n",
    "n = int(input())\n",
    "for i in range(n,0,-1):\n",
    "    print(i)"
   ]
  },
  {
   "cell_type": "code",
   "execution_count": null,
   "metadata": {},
   "outputs": [],
   "source": []
  },
  {
   "cell_type": "code",
   "execution_count": 13,
   "metadata": {},
   "outputs": [
    {
     "name": "stdout",
     "output_type": "stream",
     "text": [
      "3\n",
      "4\n",
      "5\n",
      "6\n",
      "7\n",
      "8\n",
      "9\n",
      "10\n"
     ]
    }
   ],
   "source": [
    "# a<b\n",
    "a = int(input())\n",
    "b = int(input())\n",
    "\n",
    "for i in range(a,b+1,1):\n",
    "    print(i)\n"
   ]
  },
  {
   "cell_type": "code",
   "execution_count": 20,
   "metadata": {},
   "outputs": [
    {
     "name": "stdout",
     "output_type": "stream",
     "text": [
      "3\n",
      "6\n",
      "9\n",
      "12\n",
      "15\n",
      "18\n",
      "21\n",
      "24\n",
      "27\n",
      "30\n",
      "33\n",
      "36\n",
      "39\n",
      "42\n",
      "45\n",
      "48\n"
     ]
    }
   ],
   "source": [
    "# a<b\n",
    "# print mulitiples of 3\n",
    "a = int(input())\n",
    "b = int(input())\n",
    "\n",
    "for i in range(a,b+1,3):\n",
    "    print(i)\n",
    "# here we are given 3 as a so it works but if we give not 3 then this will not work"
   ]
  },
  {
   "cell_type": "code",
   "execution_count": 22,
   "metadata": {},
   "outputs": [
    {
     "name": "stdout",
     "output_type": "stream",
     "text": [
      "3\n",
      "6\n",
      "9\n"
     ]
    }
   ],
   "source": [
    "# a<b\n",
    "# print mulitiples of 3\n",
    "a = int(input())\n",
    "b = int(input())\n",
    "\n",
    "for i in range(a,b+1,1):# to solve that\n",
    "    if i % 3 == 0:\n",
    "        print(i)\n",
    "# this is also  so what wrong because we are running the loop 7 times but printing 3 multiples\n",
    "        "
   ]
  },
  {
   "cell_type": "code",
   "execution_count": 25,
   "metadata": {},
   "outputs": [
    {
     "name": "stdout",
     "output_type": "stream",
     "text": [
      "3\n",
      "6\n",
      "9\n",
      "12\n",
      "15\n",
      "18\n",
      "21\n",
      "24\n",
      "27\n",
      "30\n",
      "33\n",
      "36\n",
      "39\n",
      "42\n",
      "45\n",
      "48\n"
     ]
    }
   ],
   "source": [
    "# a<b\n",
    "# print mulitiples of 3\n",
    "a = int(input())\n",
    "b = int(input())\n",
    "\n",
    "if a % 3 == 0:\n",
    "    s = a\n",
    "elif a % 3 == 1:\n",
    "    s = a + 2\n",
    "else:\n",
    "    s = a + 1\n",
    "\n",
    "for i in range(s,b+1,3):# to solve that\n",
    "    if i % 3 == 0:\n",
    "        print(i)\n",
    "        "
   ]
  },
  {
   "cell_type": "code",
   "execution_count": null,
   "metadata": {},
   "outputs": [],
   "source": []
  },
  {
   "cell_type": "code",
   "execution_count": 3,
   "metadata": {},
   "outputs": [
    {
     "name": "stdout",
     "output_type": "stream",
     "text": [
      "prime\n"
     ]
    }
   ],
   "source": [
    "## check if a number is prime\n",
    "n = int(input())\n",
    "flag = False\n",
    "for d in range(2, n, 1):\n",
    "    if n % d == 0:\n",
    "        flag = True\n",
    "if flag:\n",
    "    print(\" not prime\")\n",
    "else:\n",
    "    print(\"prime\")"
   ]
  },
  {
   "cell_type": "code",
   "execution_count": null,
   "metadata": {},
   "outputs": [],
   "source": []
  },
  {
   "cell_type": "code",
   "execution_count": 4,
   "metadata": {},
   "outputs": [],
   "source": [
    "## Pattern\n",
    "    #    1\n",
    "    #   232\n",
    "    #  34543\n",
    "    # 4567654\n",
    "# in this problem n is 4 and we also see space in 2nd line and also increasing part and decreasing part\n",
    "# spaces = n-i\n",
    "# incresing = i to 2i-1,1\n",
    "# decreasing  = 2i-2 to i,-1"
   ]
  },
  {
   "cell_type": "code",
   "execution_count": 6,
   "metadata": {},
   "outputs": [
    {
     "name": "stdout",
     "output_type": "stream",
     "text": [
      "   1\n",
      "  232\n",
      " 34543\n",
      "4567654\n"
     ]
    }
   ],
   "source": [
    "n = int (input())\n",
    "for i in range(1,n +1, 1):\n",
    "    for s in range(n-i):\n",
    "        print(\" \", end=\"\")\n",
    "    for j in range(i,2*i,1):\n",
    "        print(j,end=\"\")\n",
    "    for j in range(2*i - 2,i-1,-1):\n",
    "        print(j,end=\"\")\n",
    "    print()\n"
   ]
  },
  {
   "cell_type": "code",
   "execution_count": null,
   "metadata": {},
   "outputs": [],
   "source": []
  },
  {
   "cell_type": "markdown",
   "metadata": {},
   "source": [
    "## break keyword"
   ]
  },
  {
   "cell_type": "code",
   "execution_count": 14,
   "metadata": {},
   "outputs": [
    {
     "name": "stdout",
     "output_type": "stream",
     "text": [
      "NOT PRIME\n"
     ]
    }
   ],
   "source": [
    "# finding prime number with While loop\n",
    "n = int(input())\n",
    "d = 2\n",
    "flag =False\n",
    "while d < n:\n",
    "    if (n % d == 0):\n",
    "        flag = True\n",
    "    d = d + 1\n",
    "\n",
    "if  flag:\n",
    "    print(\"NOT PRIME\")\n",
    "else: \n",
    "    print(\"PRIME\")"
   ]
  },
  {
   "cell_type": "code",
   "execution_count": 9,
   "metadata": {},
   "outputs": [
    {
     "name": "stdout",
     "output_type": "stream",
     "text": [
      "PRIME\n"
     ]
    }
   ],
   "source": [
    "# finding prime number with While loop\n",
    "n = int(input())\n",
    "d = 2\n",
    "flag =False\n",
    "for d in range(2,n,1):\n",
    "    if (n % d == 0):\n",
    "        flag = True\n",
    "\n",
    "if  flag:\n",
    "    print(\"NOT PRIME\")\n",
    "else: \n",
    "    print(\"PRIME\")"
   ]
  },
  {
   "cell_type": "code",
   "execution_count": 10,
   "metadata": {},
   "outputs": [
    {
     "name": "stdout",
     "output_type": "stream",
     "text": [
      "1\n",
      "2\n",
      "3\n",
      "4\n"
     ]
    }
   ],
   "source": [
    "# USING BREAK\n",
    "i = 1\n",
    "while i < 10:\n",
    "    if i == 5:\n",
    "        break\n",
    "    print(i)\n",
    "    i = i + 1\n"
   ]
  },
  {
   "cell_type": "code",
   "execution_count": 16,
   "metadata": {},
   "outputs": [
    {
     "name": "stdout",
     "output_type": "stream",
     "text": [
      "NOT PRIME\n"
     ]
    }
   ],
   "source": [
    "# optimising the code\n",
    "# finding prime number with While loop\n",
    "n = int(input())\n",
    "d = 2\n",
    "flag =False\n",
    "while d < n:\n",
    "    if (n % d == 0):\n",
    "        flag = True\n",
    "        break\n",
    "    d = d + 1\n",
    "\n",
    "if  flag:\n",
    "    print(\"NOT PRIME\")\n",
    "else: \n",
    "    print(\"PRIME\")"
   ]
  },
  {
   "cell_type": "code",
   "execution_count": 12,
   "metadata": {},
   "outputs": [
    {
     "name": "stdout",
     "output_type": "stream",
     "text": [
      "NOT PRIME\n"
     ]
    }
   ],
   "source": [
    "# finding prime number with While loop\n",
    "n = int(input())\n",
    "d = 2\n",
    "flag =False\n",
    "for d in range(2,n,1):\n",
    "    if (n % d == 0):\n",
    "        flag = True\n",
    "        break\n",
    "# we are using break here because if a number divisible other than to then it definatly a not prime \n",
    "    #\n",
    "if  flag:\n",
    "    print(\"NOT PRIME\")\n",
    "else: \n",
    "    print(\"PRIME\")"
   ]
  },
  {
   "cell_type": "code",
   "execution_count": 17,
   "metadata": {},
   "outputs": [],
   "source": [
    "## if we have two loops then we written break in inner loop then inner loop only breaks not out loop\n",
    "## "
   ]
  },
  {
   "cell_type": "code",
   "execution_count": 21,
   "metadata": {},
   "outputs": [
    {
     "name": "stdout",
     "output_type": "stream",
     "text": [
      "2\n",
      "3\n",
      "5\n",
      "7\n"
     ]
    }
   ],
   "source": [
    "n = int(input())\n",
    "k = 2\n",
    "while k <= n:\n",
    "    d = 2\n",
    "    flag = False\n",
    "    while d < k:\n",
    "        if k % d == 0:\n",
    "            flag = True\n",
    "            break\n",
    "        d = d + 1\n",
    "    if (not(flag)):\n",
    "        print(k)\n",
    "    k = k +1"
   ]
  },
  {
   "cell_type": "markdown",
   "metadata": {},
   "source": [
    "## else\n",
    "#### we can put else in while loop also"
   ]
  },
  {
   "cell_type": "code",
   "execution_count": 1,
   "metadata": {},
   "outputs": [
    {
     "name": "stdout",
     "output_type": "stream",
     "text": [
      "1\n",
      "3\n",
      "5\n",
      "7\n",
      "9\n",
      "This will be printed one at the end\n"
     ]
    }
   ],
   "source": [
    "i = 1\n",
    "while i < 10:\n",
    "    print(i)\n",
    "    i = i + 2\n",
    "else:\n",
    "    print(\"This will be printed one at the end\")"
   ]
  },
  {
   "cell_type": "code",
   "execution_count": 2,
   "metadata": {},
   "outputs": [
    {
     "name": "stdout",
     "output_type": "stream",
     "text": [
      "1\n",
      "2\n",
      "3\n",
      "4\n",
      "5\n",
      "6\n",
      "7\n",
      "8\n",
      "9\n",
      "This will also be printed once at the end\n"
     ]
    }
   ],
   "source": [
    "for i in range (1, 10):\n",
    "    print(i)\n",
    "else:\n",
    "    print(\"This will also be printed once at the end\")\n"
   ]
  },
  {
   "cell_type": "code",
   "execution_count": 3,
   "metadata": {},
   "outputs": [
    {
     "name": "stdout",
     "output_type": "stream",
     "text": [
      "1\n",
      "2\n",
      "3\n",
      "4\n"
     ]
    }
   ],
   "source": [
    "## code inside will not be excuted if while / for loop is finsihed because of break statement\n",
    "for i in range(1, 10):\n",
    "    if i == 5:\n",
    "        break\n",
    "    print(i)\n",
    "else:\n",
    "    print(\"This will also be printed once at the end\")"
   ]
  },
  {
   "cell_type": "code",
   "execution_count": 5,
   "metadata": {},
   "outputs": [
    {
     "name": "stdout",
     "output_type": "stream",
     "text": [
      "prime number\n"
     ]
    }
   ],
   "source": [
    "## find the prime number without using flag and by using else\n",
    "n = int(input())\n",
    "for d in range(2,n,1):\n",
    "    if n % d == 0:\n",
    "        break\n",
    "else:\n",
    "    print(\"prime number\")"
   ]
  },
  {
   "cell_type": "markdown",
   "metadata": {},
   "source": [
    "## Countinue\n",
    "#### break is used when we want to break the loop\n",
    "#### countiunue is used when we want to skip the condition\n"
   ]
  },
  {
   "cell_type": "code",
   "execution_count": 8,
   "metadata": {},
   "outputs": [
    {
     "name": "stdout",
     "output_type": "stream",
     "text": [
      "2\n",
      "4\n",
      "6\n",
      "8\n",
      "10\n",
      "12\n",
      "16\n",
      "18\n",
      "20\n"
     ]
    }
   ],
   "source": [
    "n = int(input())\n",
    "for i in range(2, n+1, 2):\n",
    "    if i  % 7 == 0:\n",
    "        continue\n",
    "    print(i)\n"
   ]
  },
  {
   "cell_type": "code",
   "execution_count": 10,
   "metadata": {},
   "outputs": [
    {
     "name": "stdout",
     "output_type": "stream",
     "text": [
      "2\n",
      "2\n",
      "4\n",
      "4\n",
      "6\n",
      "6\n",
      "8\n",
      "8\n",
      "10\n",
      "10\n",
      "12\n",
      "12\n",
      "14\n",
      "16\n",
      "16\n",
      "18\n",
      "18\n",
      "20\n",
      "20\n",
      "22\n",
      "22\n",
      "24\n",
      "24\n"
     ]
    }
   ],
   "source": [
    "n = int(input())\n",
    "for i in range(2, n+1, 2):\n",
    "    print(i)\n",
    "    if i % 7 == 0:\n",
    "        continue\n",
    "    print(i)"
   ]
  },
  {
   "cell_type": "code",
   "execution_count": 17,
   "metadata": {},
   "outputs": [],
   "source": [
    "## INCORRECT\n",
    "# n = int(input())\n",
    "# i = 2\n",
    "# while i <= n:\n",
    "#     if i % 7 ==0:\n",
    "#         continue\n",
    "#     print(i)\n",
    "#     i = i + 2\n",
    "# in while loop take care of increment\n",
    "    # what here happes is n = 100 up to 14 is ok at 14 if works and then goes to\n",
    "    #countinue and then it does not increment loop will work infinite times"
   ]
  },
  {
   "cell_type": "code",
   "execution_count": 15,
   "metadata": {},
   "outputs": [
    {
     "name": "stdout",
     "output_type": "stream",
     "text": [
      "2\n",
      "4\n",
      "6\n",
      "8\n",
      "10\n",
      "12\n",
      "16\n",
      "18\n",
      "20\n",
      "22\n",
      "24\n"
     ]
    }
   ],
   "source": [
    "## CORRECTED\n",
    "n = int(input())\n",
    "i = 2\n",
    "while i <= n:\n",
    "    if i % 7 ==0:\n",
    "        i = i + 2\n",
    "        continue\n",
    "    print(i)\n",
    "    i = i + 2\n",
    "    "
   ]
  },
  {
   "cell_type": "markdown",
   "metadata": {},
   "source": [
    "## PASS keyword"
   ]
  },
  {
   "cell_type": "code",
   "execution_count": 16,
   "metadata": {},
   "outputs": [
    {
     "name": "stdout",
     "output_type": "stream",
     "text": [
      "Hi ray\n"
     ]
    }
   ],
   "source": [
    "i = 3\n",
    "if i < 7:\n",
    "    pass\n",
    "print(\"Hi ray\")"
   ]
  },
  {
   "cell_type": "code",
   "execution_count": 19,
   "metadata": {},
   "outputs": [
    {
     "name": "stdout",
     "output_type": "stream",
     "text": [
      "END\n"
     ]
    }
   ],
   "source": [
    "i = 1\n",
    "while i <= 3:\n",
    "    pass\n",
    "    i = i +1\n",
    "print(\"END\")"
   ]
  },
  {
   "cell_type": "code",
   "execution_count": 20,
   "metadata": {},
   "outputs": [
    {
     "name": "stdout",
     "output_type": "stream",
     "text": [
      "end\n"
     ]
    }
   ],
   "source": [
    "for i in range (1,4):\n",
    "    pass\n",
    "print(\"end\")"
   ]
  },
  {
   "cell_type": "code",
   "execution_count": null,
   "metadata": {},
   "outputs": [],
   "source": []
  }
 ],
 "metadata": {
  "kernelspec": {
   "display_name": "env1",
   "language": "python",
   "name": "python3"
  },
  "language_info": {
   "codemirror_mode": {
    "name": "ipython",
    "version": 3
   },
   "file_extension": ".py",
   "mimetype": "text/x-python",
   "name": "python",
   "nbconvert_exporter": "python",
   "pygments_lexer": "ipython3",
   "version": "3.8.18"
  }
 },
 "nbformat": 4,
 "nbformat_minor": 2
}
