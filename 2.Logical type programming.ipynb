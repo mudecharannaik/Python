{
 "cells": [
  {
   "cell_type": "markdown",
   "id": "880b4405-b556-420e-8408-25f80f3abe74",
   "metadata": {},
   "source": [
    "## Booleans"
   ]
  },
  {
   "cell_type": "code",
   "execution_count": 2,
   "id": "e2d6dd85-a685-461d-800b-2e31a06ba10a",
   "metadata": {},
   "outputs": [
    {
     "data": {
      "text/plain": [
       "'Ninjas'"
      ]
     },
     "execution_count": 2,
     "metadata": {},
     "output_type": "execute_result"
    }
   ],
   "source": [
    "a = True ## T in True must be captial\n",
    "b = False ## F in the False must be in captial\n",
    "\n",
    "c = \"Ninjas\"\n",
    "c"
   ]
  },
  {
   "cell_type": "markdown",
   "id": "f8e9028f-2917-4c4a-97f2-0f31632fc2db",
   "metadata": {},
   "source": [
    "### Relational operators"
   ]
  },
  {
   "cell_type": "code",
   "execution_count": 5,
   "id": "d6cffdae-fd4e-4818-aa61-d07235ee822b",
   "metadata": {},
   "outputs": [
    {
     "name": "stdout",
     "output_type": "stream",
     "text": [
      "False\n",
      "True\n",
      "False\n",
      "True\n",
      "False\n",
      "True\n"
     ]
    }
   ],
   "source": [
    "a = 10\n",
    "b = 20\n",
    "print(a>b) # is a is greater than b\n",
    "print(a<b) # is b is lesser than a\n",
    "print(a>=b) # is a is greater than or equal to b\n",
    "print(a<=b) # is a is lesser than b\n",
    "print(a == b) # is a is exactly equal to b\n",
    "## Make sure that ==\n",
    "## Don't confuse with a = b. a = b is assigning\n",
    "print(a != b)\n"
   ]
  },
  {
   "cell_type": "markdown",
   "id": "446c3bff-4008-4cbe-8c54-6c788cf333f7",
   "metadata": {},
   "source": [
    "## Logical operators"
   ]
  },
  {
   "cell_type": "markdown",
   "id": "f9d58d93-d473-4548-a608-7e40b2e3f784",
   "metadata": {},
   "source": [
    "## AND"
   ]
  },
  {
   "cell_type": "markdown",
   "id": "643aa18b-cb1a-4103-9871-bd7d6dfc0911",
   "metadata": {},
   "source": [
    "|con1 | con2 | final|\n",
    "|:----|:-----:|--------:|\n",
    "|True | True | True|\n",
    "|True | False | False|\n",
    "|False | True | False|\n",
    "|False | False | False|"
   ]
  },
  {
   "cell_type": "code",
   "execution_count": 15,
   "id": "9685a240-8915-4136-b7e5-f15455f45b71",
   "metadata": {},
   "outputs": [
    {
     "data": {
      "text/plain": [
       "False"
      ]
     },
     "execution_count": 15,
     "metadata": {},
     "output_type": "execute_result"
    }
   ],
   "source": [
    "c1 = a > 10\n",
    "c2 = b > 10\n",
    "r1 = c1 and c2 ## AND means both have to be true\n",
    "r1"
   ]
  },
  {
   "cell_type": "markdown",
   "id": "170566d7-7337-4f71-a1c9-fb7d9e4729cd",
   "metadata": {},
   "source": [
    "## OR"
   ]
  },
  {
   "cell_type": "markdown",
   "id": "37ff3788-760f-43df-b600-9ea6c0423d11",
   "metadata": {},
   "source": [
    "|con1   | con2  | final|\n",
    "|:----- |:-----:|-----:|\n",
    "|True   | True  | True |\n",
    "|True   | False | True|\n",
    "|False  | True  | True|\n",
    "|False  | False | False|"
   ]
  },
  {
   "cell_type": "code",
   "execution_count": 14,
   "id": "a72d0b1b-44ec-4ac5-8f76-3a410fac27b3",
   "metadata": {},
   "outputs": [
    {
     "data": {
      "text/plain": [
       "True"
      ]
     },
     "execution_count": 14,
     "metadata": {},
     "output_type": "execute_result"
    }
   ],
   "source": [
    "r2 = c1 or c2\n",
    "r2"
   ]
  },
  {
   "cell_type": "markdown",
   "id": "e1588691-e5c2-40a3-b8f9-e5d570d84c6a",
   "metadata": {},
   "source": [
    "## NOT"
   ]
  },
  {
   "cell_type": "code",
   "execution_count": 18,
   "id": "add7254f-2405-426c-8f19-4481de599625",
   "metadata": {},
   "outputs": [
    {
     "data": {
      "text/plain": [
       "True"
      ]
     },
     "execution_count": 18,
     "metadata": {},
     "output_type": "execute_result"
    }
   ],
   "source": [
    "r3 = not(c1) ## in real c1 is false but here we are using not so it becomes opposite of c1\n",
    "r3"
   ]
  },
  {
   "cell_type": "code",
   "execution_count": null,
   "id": "3fef0b39-873f-4dc6-bc41-302fa689897e",
   "metadata": {},
   "outputs": [],
   "source": []
  },
  {
   "cell_type": "markdown",
   "id": "13803553-cb2f-46a9-aa98-c596cd8211ef",
   "metadata": {},
   "source": [
    "## IF ELSE"
   ]
  },
  {
   "cell_type": "code",
   "execution_count": 20,
   "id": "039ed009-64f1-48fb-a059-4f30cc2f8c7b",
   "metadata": {},
   "outputs": [
    {
     "name": "stdout",
     "output_type": "stream",
     "text": [
      "I am inside if\n"
     ]
    }
   ],
   "source": [
    "a = True\n",
    "if a:\n",
    "    print(\"I am inside if\")\n",
    "else:\n",
    "    print(\"I am outside else\")"
   ]
  },
  {
   "cell_type": "code",
   "execution_count": 24,
   "id": "ef1c117d-9d44-49ec-9f8e-d1729f9c37d5",
   "metadata": {},
   "outputs": [
    {
     "ename": "IndentationError",
     "evalue": "unexpected indent (3879913326.py, line 4)",
     "output_type": "error",
     "traceback": [
      "\u001b[1;36m  Cell \u001b[1;32mIn[24], line 4\u001b[1;36m\u001b[0m\n\u001b[1;33m    print(\"I am inside if\") ## ERROR because they are not in same line w.r.t above line\u001b[0m\n\u001b[1;37m    ^\u001b[0m\n\u001b[1;31mIndentationError\u001b[0m\u001b[1;31m:\u001b[0m unexpected indent\n"
     ]
    }
   ],
   "source": [
    "a = True\n",
    "if a:\n",
    "    print(\"I am inside if\")\n",
    "     print(\"I am inside if\") ## ERROR because they are not in same line w.r.t above line\n",
    "else:\n",
    "    print(\"I am outside else\")"
   ]
  },
  {
   "cell_type": "code",
   "execution_count": 26,
   "id": "ce38f796-202c-4f31-ad85-ee970df7a5e8",
   "metadata": {},
   "outputs": [
    {
     "name": "stdout",
     "output_type": "stream",
     "text": [
      " 456\n"
     ]
    },
    {
     "name": "stdout",
     "output_type": "stream",
     "text": [
      "n is even\n"
     ]
    }
   ],
   "source": [
    "## check num to be odd or even\n",
    "n = int(input())\n",
    "r = n % 2\n",
    "is_even = (r == 0)\n",
    "if is_even:\n",
    "    print(\"n is even\")\n",
    "else:\n",
    "    print(\"n is odd \")"
   ]
  },
  {
   "cell_type": "code",
   "execution_count": 28,
   "id": "2460cb71-7d78-4df4-9fbd-c9c79b34dbb8",
   "metadata": {},
   "outputs": [
    {
     "name": "stdout",
     "output_type": "stream",
     "text": [
      " 54\n"
     ]
    },
    {
     "name": "stdout",
     "output_type": "stream",
     "text": [
      "n is even\n"
     ]
    }
   ],
   "source": [
    "## decreasing the above code\n",
    "n = int(input())\n",
    "is_even = (r == n % 2)\n",
    "if is_even:\n",
    "    print(\"n is even\")\n",
    "else:\n",
    "    print(\"n is odd \")"
   ]
  },
  {
   "cell_type": "code",
   "execution_count": 30,
   "id": "bde3818d-cb8f-4242-ba38-a82c0345013c",
   "metadata": {},
   "outputs": [
    {
     "name": "stdout",
     "output_type": "stream",
     "text": [
      " 568\n"
     ]
    },
    {
     "name": "stdout",
     "output_type": "stream",
     "text": [
      "n is even\n"
     ]
    }
   ],
   "source": [
    "## decreasing the above code\n",
    "\n",
    "n = int(input())\n",
    "if n % 2 == 0:\n",
    "    print(\"n is even\")\n",
    "else:\n",
    "    print(\"n is odd \")"
   ]
  },
  {
   "cell_type": "code",
   "execution_count": 32,
   "id": "450af2cc-8fe6-489c-bd27-2ebafde8db51",
   "metadata": {},
   "outputs": [],
   "source": [
    "## ony using IF is ok it is not nessasury to use ELSE"
   ]
  },
  {
   "cell_type": "code",
   "execution_count": null,
   "id": "1aec2380-aeab-412d-9a7b-5669a306fc07",
   "metadata": {},
   "outputs": [],
   "source": [
    "\n"
   ]
  },
  {
   "cell_type": "code",
   "execution_count": 33,
   "id": "6c42e290-0820-49bb-bfa6-b55878e87c5c",
   "metadata": {},
   "outputs": [],
   "source": [
    "## 7. Using relational and logical operators"
   ]
  },
  {
   "cell_type": "markdown",
   "id": "c6f6e2ae-07bd-424a-bc00-b752fc978c2c",
   "metadata": {},
   "source": [
    "## Using Operators in if else"
   ]
  },
  {
   "cell_type": "code",
   "execution_count": 37,
   "id": "11ed7446-b5d8-42df-8e80-10b95c1b16c2",
   "metadata": {},
   "outputs": [
    {
     "name": "stdout",
     "output_type": "stream",
     "text": [
      " 11\n",
      " 20\n"
     ]
    },
    {
     "name": "stdout",
     "output_type": "stream",
     "text": [
      "Both > 10\n"
     ]
    }
   ],
   "source": [
    "a = int(input())\n",
    "b = int(input())\n",
    "\n",
    "c1 = a > 10\n",
    "c2 = b > 10\n",
    "r = c1 and c2\n",
    "if r:\n",
    "    print(\"Both > 10\")\n",
    "else:\n",
    "    print(\"No they are not\")\n"
   ]
  },
  {
   "cell_type": "code",
   "execution_count": 40,
   "id": "29770324-db91-4600-be31-cc861a077ad8",
   "metadata": {},
   "outputs": [
    {
     "name": "stdout",
     "output_type": "stream",
     "text": [
      " 11\n",
      " 11\n"
     ]
    },
    {
     "name": "stdout",
     "output_type": "stream",
     "text": [
      "Both are > 10\n"
     ]
    }
   ],
   "source": [
    "## decreasig the above code\n",
    "a = int(input())\n",
    "b = int(input())\n",
    "\n",
    "if a > 10 and b > 10:\n",
    "    print(\"Both are > 10\")\n",
    "else:\n",
    "    print(\"No They are not\")"
   ]
  },
  {
   "cell_type": "code",
   "execution_count": 41,
   "id": "2781a6be-9e99-4738-a3fd-1eb5654f2149",
   "metadata": {},
   "outputs": [
    {
     "name": "stdout",
     "output_type": "stream",
     "text": [
      " 7\n"
     ]
    },
    {
     "name": "stdout",
     "output_type": "stream",
     "text": [
      "it is seven(7)\n"
     ]
    }
   ],
   "source": [
    "a = int(input())\n",
    "if a == 7:\n",
    "    print(\"it is seven(7)\")\n",
    "else:\n",
    "    print(\"no its not ?\")"
   ]
  },
  {
   "cell_type": "code",
   "execution_count": 42,
   "id": "ce03bb88-b28e-41e9-a0d0-24e31150c892",
   "metadata": {},
   "outputs": [
    {
     "name": "stdout",
     "output_type": "stream",
     "text": [
      " 24\n"
     ]
    },
    {
     "name": "stdout",
     "output_type": "stream",
     "text": [
      "it is seven(7)\n"
     ]
    }
   ],
   "source": [
    "##reverse of the above problem\n",
    "a = int(input())\n",
    "if a != 7:\n",
    "    print(\"it is seven(7)\")\n",
    "else:\n",
    "    print(\"no its not ?\")"
   ]
  },
  {
   "cell_type": "markdown",
   "id": "32e054c6-2456-48d2-83e5-80e5f465ea9e",
   "metadata": {},
   "source": [
    "## ELIF"
   ]
  },
  {
   "cell_type": "code",
   "execution_count": 43,
   "id": "d374211e-a15a-4c80-9ae3-71e5271b6ecc",
   "metadata": {},
   "outputs": [],
   "source": [
    "## know how to use elif"
   ]
  },
  {
   "cell_type": "code",
   "execution_count": 47,
   "id": "b501b899-771f-490b-8b26-fba5d3872cca",
   "metadata": {},
   "outputs": [
    {
     "name": "stdout",
     "output_type": "stream",
     "text": [
      " 3\n",
      " 3\n",
      " 1\n"
     ]
    },
    {
     "name": "stdout",
     "output_type": "stream",
     "text": [
      "1\n"
     ]
    }
   ],
   "source": [
    "a = int(input())\n",
    "b = int(input())\n",
    "c = int(input())\n",
    "\n",
    "if a > b and a >  c:\n",
    "    print(a)\n",
    "elif b > a and b >c:\n",
    "    print(b)\n",
    "else:\n",
    "    print(c)\n",
    "## small but in this if we give 3 3 1"
   ]
  },
  {
   "cell_type": "code",
   "execution_count": 55,
   "id": "b639df8c-e4f4-4b74-8173-0dc4e59a97bd",
   "metadata": {},
   "outputs": [
    {
     "name": "stdout",
     "output_type": "stream",
     "text": [
      " 3 \n",
      " 3\n",
      " 1\n"
     ]
    },
    {
     "name": "stdout",
     "output_type": "stream",
     "text": [
      "3\n"
     ]
    }
   ],
   "source": [
    "## finding largest number\n",
    "a = int(input())\n",
    "b = int(input())\n",
    "c = int(input())\n",
    "\n",
    "if a >= b and a >= c:\n",
    "    print(a)\n",
    "elif b >= a and b >= c:\n",
    "    print(b)\n",
    "else:\n",
    "    print(c)\n",
    "## small but in this if we give 3 3 1"
   ]
  },
  {
   "cell_type": "code",
   "execution_count": 1,
   "id": "b6d2cbe7-6eb7-46a7-ac4a-3c153bb99b9a",
   "metadata": {},
   "outputs": [
    {
     "name": "stdout",
     "output_type": "stream",
     "text": [
      "RED\n"
     ]
    }
   ],
   "source": [
    "\n",
    "n = int(input())\n",
    "if n > 10:\n",
    "    print(\"RED\")\n",
    "elif n >= 5:\n",
    "    print(\"GREEN\")\n",
    "elif n > 0:\n",
    "    print(\"YELLOW\")\n",
    "else:\n",
    "    print(\"NOTHING\")"
   ]
  },
  {
   "cell_type": "code",
   "execution_count": null,
   "id": "684c5b25-7897-4a09-8fcf-04283c225f6b",
   "metadata": {},
   "outputs": [],
   "source": []
  },
  {
   "cell_type": "markdown",
   "id": "b6b59d47",
   "metadata": {},
   "source": [
    "## Nested Condition"
   ]
  },
  {
   "cell_type": "markdown",
   "id": "9300c8de",
   "metadata": {},
   "source": [
    "## Nested if else"
   ]
  },
  {
   "cell_type": "code",
   "execution_count": 2,
   "id": "3e6a15d4",
   "metadata": {},
   "outputs": [
    {
     "name": "stdout",
     "output_type": "stream",
     "text": [
      "n is even\n",
      " n is zero\n"
     ]
    }
   ],
   "source": [
    "n = int(input())\n",
    "\n",
    "if n % 2 == 0:\n",
    "    print(\"n is even\")\n",
    "    if n == 0:\n",
    "        print(\" n is zero\")\n",
    "else:\n",
    "    print(\"n is odd\")"
   ]
  },
  {
   "cell_type": "code",
   "execution_count": 8,
   "id": "2efddaa1",
   "metadata": {},
   "outputs": [
    {
     "name": "stdout",
     "output_type": "stream",
     "text": [
      "2\n"
     ]
    }
   ],
   "source": [
    "n = int(input())\n",
    "m = int(input())\n",
    "\n",
    "if n % 2 == 0: # n is even\n",
    "    if m % 2 == 0: # m is odd\n",
    "        print(1) # then print 1\n",
    "    else:\n",
    "        print(2) # m is odd and print 2\n",
    "else:\n",
    "    print(3) # n and m are oddd then print 3"
   ]
  },
  {
   "cell_type": "code",
   "execution_count": null,
   "id": "506b990d",
   "metadata": {},
   "outputs": [],
   "source": []
  },
  {
   "cell_type": "markdown",
   "id": "0baa3f74",
   "metadata": {},
   "source": [
    "## Loop\n",
    "\n",
    "## While Loop "
   ]
  },
  {
   "cell_type": "code",
   "execution_count": 10,
   "id": "ad67b352",
   "metadata": {},
   "outputs": [
    {
     "name": "stdout",
     "output_type": "stream",
     "text": [
      "n value is 5\n",
      "1\n",
      "1\n",
      "1\n",
      "1\n",
      "1\n"
     ]
    }
   ],
   "source": [
    "n = int(input())\n",
    "print(f\"n value is {n}\")\n",
    "count = 1\n",
    "while count <= n:\n",
    "    print(1) \n",
    "    ## if you write up to this step only the condition is always true and it prints infinite times\n",
    "    ## for that we need to incease the count\n",
    "    count = count + 1"
   ]
  },
  {
   "cell_type": "code",
   "execution_count": 16,
   "id": "47e6f618",
   "metadata": {},
   "outputs": [
    {
     "name": "stdout",
     "output_type": "stream",
     "text": [
      "n value is 10\n",
      "1\n",
      "2\n",
      "3\n",
      "4\n",
      "5\n",
      "6\n",
      "7\n",
      "8\n",
      "9\n",
      "10\n"
     ]
    }
   ],
   "source": [
    "## print first n natural numbers\n",
    "n = int(input())\n",
    "print(f\"n value is {n}\")\n",
    "count = 1\n",
    "while count <= n: \n",
    "    print(count )\n",
    "    count = count + 1\n",
    "    "
   ]
  },
  {
   "cell_type": "code",
   "execution_count": null,
   "id": "030509a3",
   "metadata": {},
   "outputs": [],
   "source": []
  },
  {
   "cell_type": "markdown",
   "id": "5490441a",
   "metadata": {},
   "source": [
    "## Check Prime"
   ]
  },
  {
   "cell_type": "code",
   "execution_count": 18,
   "id": "80770fb5",
   "metadata": {},
   "outputs": [],
   "source": [
    "n = int(input())\n",
    "\n",
    "d = 2\n",
    "while d< n:\n",
    "    if(n % d == 0):\n",
    "        print(\"n is not prime\")\n",
    "    ## if here use else it is prime then we that is whore case\n",
    "    d = d + 1\n",
    "## in this case n is not prime printing 2 times and also if we write 7 it does not printing any thing\n",
    "    "
   ]
  },
  {
   "cell_type": "code",
   "execution_count": 19,
   "id": "559343d0",
   "metadata": {},
   "outputs": [
    {
     "name": "stdout",
     "output_type": "stream",
     "text": [
      " n is prime\n"
     ]
    }
   ],
   "source": [
    "n = int(input())\n",
    "\n",
    "d = 2\n",
    "flag = False\n",
    "\n",
    "while d< n:\n",
    "    if(n % d == 0):\n",
    "        flag = True\n",
    "    d = d + 1\n",
    "if flag:\n",
    "    print(\" not prime \")\n",
    "else:\n",
    "    print(\" n is prime\")"
   ]
  },
  {
   "cell_type": "code",
   "execution_count": null,
   "id": "28642020",
   "metadata": {},
   "outputs": [],
   "source": []
  },
  {
   "cell_type": "markdown",
   "id": "36bbf9b4",
   "metadata": {},
   "source": [
    "## Nested Loop"
   ]
  },
  {
   "cell_type": "code",
   "execution_count": 26,
   "id": "3d3d0244",
   "metadata": {},
   "outputs": [
    {
     "name": "stdout",
     "output_type": "stream",
     "text": [
      "2\n",
      "3\n",
      "5\n",
      "7\n",
      "11\n",
      "13\n",
      "17\n",
      "19\n",
      "23\n"
     ]
    }
   ],
   "source": [
    "n = int(input())\n",
    "\n",
    "k = 2\n",
    "while k <= n:\n",
    "    d = 2\n",
    "    flag = False\n",
    "    while d < k:\n",
    "        if(k % d == 0):\n",
    "            flag = True\n",
    "        d = d + 1\n",
    "    if not(flag):\n",
    "        print(k)\n",
    "    k = k + 1\n",
    "    "
   ]
  },
  {
   "cell_type": "code",
   "execution_count": null,
   "id": "8d8e0355",
   "metadata": {},
   "outputs": [],
   "source": []
  }
 ],
 "metadata": {
  "kernelspec": {
   "display_name": "Python 3 (ipykernel)",
   "language": "python",
   "name": "python3"
  },
  "language_info": {
   "codemirror_mode": {
    "name": "ipython",
    "version": 3
   },
   "file_extension": ".py",
   "mimetype": "text/x-python",
   "name": "python",
   "nbconvert_exporter": "python",
   "pygments_lexer": "ipython3",
   "version": "3.8.18"
  }
 },
 "nbformat": 4,
 "nbformat_minor": 5
}
