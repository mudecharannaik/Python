{
 "cells": [
  {
   "cell_type": "markdown",
   "id": "1d796709-eab5-452a-9b4c-8aa58bd241df",
   "metadata": {},
   "source": [
    "## Markdown Header\n",
    "## Intro to jupiter \n",
    "we can write markdown or python code in our cells. You can choose accordingliy in the dropdown above\n",
    "### # is used for commenting and \"\"\" MATTER \"\"\" for multi line commenting"
   ]
  },
  {
   "cell_type": "code",
   "execution_count": 1,
   "id": "fa538616-1243-48fb-8b0e-bd11cf1a4ee1",
   "metadata": {},
   "outputs": [
    {
     "name": "stdout",
     "output_type": "stream",
     "text": [
      "10\n"
     ]
    }
   ],
   "source": [
    "## use Ctrl + Enter to Run the program\n",
    "a = 10\n",
    "print(a)"
   ]
  },
  {
   "cell_type": "markdown",
   "id": "19c03178-f826-4cd7-ab86-fa5b77df4152",
   "metadata": {},
   "source": [
    "## Variables"
   ]
  },
  {
   "cell_type": "code",
   "execution_count": 2,
   "id": "f9608b2b-fd41-46fb-a598-30fb322a3980",
   "metadata": {},
   "outputs": [
    {
     "name": "stdout",
     "output_type": "stream",
     "text": [
      "30\n",
      "sum\n"
     ]
    }
   ],
   "source": [
    "## class 5 Variable in Python\n",
    "a = 10\n",
    "b = 20 \n",
    "sum = a + b\n",
    "print(sum) ## when only sum when not \"sum\"\n",
    "## it is because we are printing a Variable \" \" is used for strings\n",
    "print('sum')"
   ]
  },
  {
   "cell_type": "markdown",
   "id": "dcde6530-f76a-4664-9a76-91a260805180",
   "metadata": {},
   "source": [
    "## Variable nameing\n",
    "##### You can't start with digits"
   ]
  },
  {
   "cell_type": "code",
   "execution_count": 3,
   "id": "2d843099-760f-441a-8ddf-09b66bbaf17b",
   "metadata": {},
   "outputs": [],
   "source": [
    "#Possible name for variables\n",
    "# lower case # Uppper case # Digit # _ as wwll\n",
    "#CORRECT\n",
    "abc1 = 10\n",
    "ab_c1 = 2\n",
    "_abc = 5\n",
    "#INCORRECT\n",
    "## 12ae = 2\n",
    "# we can not start with Digit\n"
   ]
  },
  {
   "cell_type": "markdown",
   "id": "73ab8bf2-bea4-49c9-a9ef-14c9dd5848ce",
   "metadata": {},
   "source": [
    "## Assigning Different Type of Data To a Variable"
   ]
  },
  {
   "cell_type": "code",
   "execution_count": 4,
   "id": "f35f42ba-01bf-4252-bfe8-0391ab2bcb82",
   "metadata": {},
   "outputs": [
    {
     "data": {
      "text/plain": [
       "str"
      ]
     },
     "execution_count": 4,
     "metadata": {},
     "output_type": "execute_result"
    }
   ],
   "source": [
    "a = 10\n",
    "a = 20\n",
    "a = \"Happy\"\n",
    "a\n",
    "type(a) ## type of data stored in this variable"
   ]
  },
  {
   "cell_type": "code",
   "execution_count": 5,
   "id": "e76eddf0-c2e1-483f-a851-35572fb6fbcd",
   "metadata": {},
   "outputs": [
    {
     "name": "stdout",
     "output_type": "stream",
     "text": [
      "<class 'int'>\n"
     ]
    }
   ],
   "source": [
    "a = 10\n",
    "print(type(a))"
   ]
  },
  {
   "cell_type": "markdown",
   "id": "ee9d9271-8b33-4544-a2d7-79d901a58c89",
   "metadata": {},
   "source": [
    "## Python Numbers"
   ]
  },
  {
   "cell_type": "code",
   "execution_count": 6,
   "id": "ab369cd8-43a6-47fc-85b1-8dc1273be54b",
   "metadata": {},
   "outputs": [
    {
     "name": "stdout",
     "output_type": "stream",
     "text": [
      "<class 'int'>\n",
      "<class 'float'>\n",
      "<class 'complex'>\n"
     ]
    }
   ],
   "source": [
    "a1 = 23\n",
    "a2 = 3.4\n",
    "a3 = 4 + 5j\n",
    "print(type(a1))\n",
    "print(type(a2))\n",
    "print(type(a3))\n"
   ]
  },
  {
   "cell_type": "code",
   "execution_count": 7,
   "id": "66492dec-b2e8-47be-9922-29a246b9f686",
   "metadata": {},
   "outputs": [
    {
     "name": "stdout",
     "output_type": "stream",
     "text": [
      "140712177511616\n",
      "140712177511648\n"
     ]
    },
    {
     "data": {
      "text/plain": [
       "11"
      ]
     },
     "execution_count": 7,
     "metadata": {},
     "output_type": "execute_result"
    }
   ],
   "source": [
    "a = 10\n",
    "print(id(a))\n",
    "a = a + 1\n",
    "print(id(a))\n",
    "a"
   ]
  },
  {
   "cell_type": "code",
   "execution_count": 8,
   "id": "202a838d-7bc5-49d7-a631-e971f8a562c9",
   "metadata": {},
   "outputs": [
    {
     "name": "stdout",
     "output_type": "stream",
     "text": [
      "140712177511616\n",
      "140712177511616\n"
     ]
    }
   ],
   "source": [
    "a = 10\n",
    "b = 10\n",
    "print(id(a))\n",
    "print(id(b))\n",
    "## SAME ID ONLY FOR -5 to 256 \n",
    "# AFTER THAT the ID are different"
   ]
  },
  {
   "cell_type": "code",
   "execution_count": 9,
   "id": "9a7fe78a-1181-419b-ae08-f4af61b043f3",
   "metadata": {},
   "outputs": [
    {
     "name": "stdout",
     "output_type": "stream",
     "text": [
      "1656063516144\n",
      "1656063514384\n"
     ]
    }
   ],
   "source": [
    "a = 1000\n",
    "b = 1000\n",
    "print(id(a))\n",
    "print(id(b))\n"
   ]
  },
  {
   "cell_type": "markdown",
   "id": "240a08e9-71ea-4c54-bab4-763eaf3950a2",
   "metadata": {},
   "source": [
    "## Arithmatic Operators\n",
    "## + - * / // ** %"
   ]
  },
  {
   "cell_type": "code",
   "execution_count": 10,
   "id": "adf514a1-26fb-460f-b1b5-e5b2fcf78fb4",
   "metadata": {},
   "outputs": [
    {
     "data": {
      "text/plain": [
       "13"
      ]
     },
     "execution_count": 10,
     "metadata": {},
     "output_type": "execute_result"
    }
   ],
   "source": [
    "10 + 3"
   ]
  },
  {
   "cell_type": "code",
   "execution_count": 11,
   "id": "1b8c50d9-3e5d-48a5-bc90-ebb34a203e94",
   "metadata": {},
   "outputs": [
    {
     "data": {
      "text/plain": [
       "7"
      ]
     },
     "execution_count": 11,
     "metadata": {},
     "output_type": "execute_result"
    }
   ],
   "source": [
    "10 - 3"
   ]
  },
  {
   "cell_type": "code",
   "execution_count": 12,
   "id": "8844c7c1-8114-473d-be29-80d86304b936",
   "metadata": {},
   "outputs": [
    {
     "data": {
      "text/plain": [
       "40"
      ]
     },
     "execution_count": 12,
     "metadata": {},
     "output_type": "execute_result"
    }
   ],
   "source": [
    "a = 10\n",
    "b = 4\n",
    "a * b"
   ]
  },
  {
   "cell_type": "code",
   "execution_count": 13,
   "id": "0932eb90-889e-4b9d-bae0-a88ff3a92dea",
   "metadata": {},
   "outputs": [
    {
     "data": {
      "text/plain": [
       "2.5"
      ]
     },
     "execution_count": 13,
     "metadata": {},
     "output_type": "execute_result"
    }
   ],
   "source": [
    "## FLOARING point division\n",
    "a / b "
   ]
  },
  {
   "cell_type": "code",
   "execution_count": 14,
   "id": "f584dc07-9094-4383-9c8b-98156a8273d8",
   "metadata": {},
   "outputs": [
    {
     "data": {
      "text/plain": [
       "2"
      ]
     },
     "execution_count": 14,
     "metadata": {},
     "output_type": "execute_result"
    }
   ],
   "source": [
    "## INTEGER Division\n",
    "a//b"
   ]
  },
  {
   "cell_type": "code",
   "execution_count": 15,
   "id": "e095b7e9-85ae-411c-a365-549f4024b7cd",
   "metadata": {},
   "outputs": [
    {
     "data": {
      "text/plain": [
       "10000"
      ]
     },
     "execution_count": 15,
     "metadata": {},
     "output_type": "execute_result"
    }
   ],
   "source": [
    "a**b ## Exponentation"
   ]
  },
  {
   "cell_type": "code",
   "execution_count": 16,
   "id": "9bb1f39b-6f6d-4635-b8a2-31125e2b32ac",
   "metadata": {},
   "outputs": [
    {
     "data": {
      "text/plain": [
       "2"
      ]
     },
     "execution_count": 16,
     "metadata": {},
     "output_type": "execute_result"
    }
   ],
   "source": [
    "a % b"
   ]
  },
  {
   "cell_type": "code",
   "execution_count": 17,
   "id": "47c0c6a0-3fb1-43c2-9d2d-aff1493d6e9b",
   "metadata": {},
   "outputs": [
    {
     "data": {
      "text/plain": [
       "14"
      ]
     },
     "execution_count": 17,
     "metadata": {},
     "output_type": "execute_result"
    }
   ],
   "source": [
    " 2 + (3 * 4) # 14 or 20"
   ]
  },
  {
   "cell_type": "code",
   "execution_count": 18,
   "id": "271e3914-722f-47f1-ae17-46c51e619819",
   "metadata": {},
   "outputs": [
    {
     "data": {
      "text/plain": [
       "1.5"
      ]
     },
     "execution_count": 18,
     "metadata": {},
     "output_type": "execute_result"
    }
   ],
   "source": [
    "2 * 3 / 4 # does't matter what operation is done first"
   ]
  },
  {
   "cell_type": "code",
   "execution_count": 19,
   "id": "8ddccb41-0deb-43da-8ef7-b88802230b56",
   "metadata": {},
   "outputs": [
    {
     "data": {
      "text/plain": [
       "1"
      ]
     },
     "execution_count": 19,
     "metadata": {},
     "output_type": "execute_result"
    }
   ],
   "source": [
    "2 * 3 // 4"
   ]
  },
  {
   "cell_type": "code",
   "execution_count": 20,
   "id": "5d20c90d-fcd7-4da7-b36d-572d51c9ae25",
   "metadata": {},
   "outputs": [
    {
     "data": {
      "text/plain": [
       "1"
      ]
     },
     "execution_count": 20,
     "metadata": {},
     "output_type": "execute_result"
    }
   ],
   "source": [
    "(2 * 3) // 4\n"
   ]
  },
  {
   "cell_type": "code",
   "execution_count": 21,
   "id": "7beebcc9-a2af-48bf-b1cf-07c8dafcf075",
   "metadata": {},
   "outputs": [
    {
     "name": "stdout",
     "output_type": "stream",
     "text": [
      "24\n"
     ]
    }
   ],
   "source": [
    "# simple interest\n",
    "p = 100\n",
    "r = 12\n",
    "t = 2\n",
    "si = p*t*r // 100\n",
    "print(si)"
   ]
  },
  {
   "cell_type": "code",
   "execution_count": 22,
   "id": "12acc00e-9dac-475c-8823-989898345fae",
   "metadata": {},
   "outputs": [
    {
     "name": "stdout",
     "output_type": "stream",
     "text": [
      "24.0\n"
     ]
    }
   ],
   "source": [
    "# simple interest\n",
    "p = 100\n",
    "r = 12\n",
    "t = 2\n",
    "si = (p*t*r)/ 100 ## Recommended to only use this\n",
    "print(si)"
   ]
  },
  {
   "cell_type": "code",
   "execution_count": 23,
   "id": "46fd3ecf-15e5-4d33-aea8-135c61cf58c3",
   "metadata": {},
   "outputs": [
    {
     "name": "stdout",
     "output_type": "stream",
     "text": [
      "82.22222222222223\n",
      "37.77777777777778\n"
     ]
    }
   ],
   "source": [
    "## fah to celcium conversion\n",
    "f = 100\n",
    "c1 = f - 32 * 5/9 ##INCORRECT\n",
    "c = (f - 32) * 5/9 ##CORRECT\n",
    "print(c1)\n",
    "print(c)"
   ]
  },
  {
   "cell_type": "markdown",
   "id": "031290fd-3864-4fa3-b2f1-78537b576386",
   "metadata": {},
   "source": [
    "## Taking Inputs"
   ]
  },
  {
   "cell_type": "code",
   "execution_count": 24,
   "id": "92bbfddf-39f6-4190-9e5d-71de8c1d11e6",
   "metadata": {},
   "outputs": [
    {
     "data": {
      "text/plain": [
       "''"
      ]
     },
     "execution_count": 24,
     "metadata": {},
     "output_type": "execute_result"
    }
   ],
   "source": [
    "input()"
   ]
  },
  {
   "cell_type": "code",
   "execution_count": 25,
   "id": "a1d71c21-5200-46b9-8fc1-04ce76570795",
   "metadata": {},
   "outputs": [
    {
     "data": {
      "text/plain": [
       "''"
      ]
     },
     "execution_count": 25,
     "metadata": {},
     "output_type": "execute_result"
    }
   ],
   "source": [
    "a = input()\n",
    "a"
   ]
  },
  {
   "cell_type": "code",
   "execution_count": 26,
   "id": "16c37eed-3720-4a8a-9fbe-e0ee3bd1f602",
   "metadata": {},
   "outputs": [
    {
     "name": "stdout",
     "output_type": "stream",
     "text": [
      "<class 'str'>\n",
      "<class 'str'>\n",
      "\n"
     ]
    }
   ],
   "source": [
    "a = input()\n",
    "b = input()\n",
    "print(type(a))\n",
    "print(type(b))\n",
    "s = a + b\n",
    "print(s)"
   ]
  },
  {
   "cell_type": "code",
   "execution_count": 27,
   "id": "d20f5899-260c-4577-a239-5aefacb710a4",
   "metadata": {},
   "outputs": [
    {
     "name": "stdout",
     "output_type": "stream",
     "text": [
      "<class 'str'>\n",
      "<class 'int'>\n"
     ]
    }
   ],
   "source": [
    "b = '34'\n",
    "c = int(b) ## Converting string into a integer\n",
    "print(type(b))\n",
    "print(type(c))\n"
   ]
  },
  {
   "cell_type": "code",
   "execution_count": 28,
   "id": "e78d2285-a625-4b87-b05e-c02f33a6bca7",
   "metadata": {},
   "outputs": [
    {
     "ename": "ValueError",
     "evalue": "invalid literal for int() with base 10: 'we'",
     "output_type": "error",
     "traceback": [
      "\u001b[1;31m---------------------------------------------------------------------------\u001b[0m",
      "\u001b[1;31mValueError\u001b[0m                                Traceback (most recent call last)",
      "Cell \u001b[1;32mIn[28], line 2\u001b[0m\n\u001b[0;32m      1\u001b[0m \u001b[38;5;66;03m## simplest way\u001b[39;00m\n\u001b[1;32m----> 2\u001b[0m a \u001b[38;5;241m=\u001b[39m \u001b[38;5;28;43mint\u001b[39;49m\u001b[43m(\u001b[49m\u001b[38;5;28;43minput\u001b[39;49m\u001b[43m(\u001b[49m\u001b[43m \u001b[49m\u001b[43m)\u001b[49m\u001b[43m)\u001b[49m\n\u001b[0;32m      3\u001b[0m a\n\u001b[0;32m      4\u001b[0m \u001b[38;5;28mprint\u001b[39m(a)\n",
      "\u001b[1;31mValueError\u001b[0m: invalid literal for int() with base 10: 'we'"
     ]
    }
   ],
   "source": [
    "## simplest way\n",
    "a = int(input( ))\n",
    "a\n",
    "print(a)\n",
    "print(type(a))"
   ]
  },
  {
   "cell_type": "code",
   "execution_count": null,
   "id": "3585faf6-1a68-4bab-8576-ce2d6a012c5b",
   "metadata": {},
   "outputs": [
    {
     "name": "stdout",
     "output_type": "stream",
     "text": [
      " 25\n",
      " 34\n"
     ]
    },
    {
     "name": "stdout",
     "output_type": "stream",
     "text": [
      "<class 'int'>\n",
      "<class 'int'>\n",
      "59\n"
     ]
    }
   ],
   "source": [
    "a = int(input())\n",
    "b = int(input())\n",
    "print(type(a))\n",
    "print(type(b))\n",
    "s = a + b\n",
    "print(s)"
   ]
  },
  {
   "cell_type": "markdown",
   "id": "598a6e3e",
   "metadata": {},
   "source": [
    "## completed Only some basics let's meet you in 2."
   ]
  }
 ],
 "metadata": {
  "kernelspec": {
   "display_name": "Python 3 (ipykernel)",
   "language": "python",
   "name": "python3"
  },
  "language_info": {
   "codemirror_mode": {
    "name": "ipython",
    "version": 3
   },
   "file_extension": ".py",
   "mimetype": "text/x-python",
   "name": "python",
   "nbconvert_exporter": "python",
   "pygments_lexer": "ipython3",
   "version": "3.8.18"
  }
 },
 "nbformat": 4,
 "nbformat_minor": 5
}
